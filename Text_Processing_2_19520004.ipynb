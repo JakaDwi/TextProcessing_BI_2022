{
  "nbformat": 4,
  "nbformat_minor": 0,
  "metadata": {
    "colab": {
      "provenance": []
    },
    "kernelspec": {
      "name": "python3",
      "display_name": "Python 3"
    },
    "language_info": {
      "name": "python"
    }
  },
  "cells": [
    {
      "cell_type": "code",
      "execution_count": 1,
      "metadata": {
        "colab": {
          "base_uri": "https://localhost:8080/"
        },
        "id": "3Wa0yTyvWFls",
        "outputId": "b3958702-123c-4991-defd-7bdf24c7e893"
      },
      "outputs": [
        {
          "output_type": "execute_result",
          "data": {
            "text/plain": [
              "['The Industrial Revolution 4.0 is changing most of the business activities',\n",
              " 'The Industrial Revolution 4.0 has five technologies that are the main points',\n",
              " 'Industry 4.0 opens new challenges for companies']"
            ]
          },
          "metadata": {},
          "execution_count": 1
        }
      ],
      "source": [
        "corpus = [\n",
        "    'The Industrial Revolution 4.0 is changing most of the business activities',\n",
        "    'The Industrial Revolution 4.0 has five technologies that are the main points',\n",
        "    'Industry 4.0 opens new challenges for companies'\n",
        "]\n",
        "\n",
        "corpus"
      ]
    },
    {
      "cell_type": "code",
      "source": [
        "from sklearn.feature_extraction.text import CountVectorizer\n",
        "\n",
        "vectorizer = CountVectorizer()\n",
        "vectorizer_X = vectorizer.fit_transform(corpus).todense()\n",
        "vectorizer_X"
      ],
      "metadata": {
        "colab": {
          "base_uri": "https://localhost:8080/"
        },
        "id": "pwCHjbjfWYU7",
        "outputId": "218f81a0-6895-48e0-b8ff-c0ba59463f0d"
      },
      "execution_count": 2,
      "outputs": [
        {
          "output_type": "execute_result",
          "data": {
            "text/plain": [
              "matrix([[1, 0, 1, 0, 1, 0, 0, 0, 0, 1, 0, 1, 0, 1, 0, 1, 0, 0, 1, 0, 0,\n",
              "         2],\n",
              "        [0, 1, 0, 0, 0, 0, 1, 0, 1, 1, 0, 0, 1, 0, 0, 0, 0, 1, 1, 1, 1,\n",
              "         2],\n",
              "        [0, 0, 0, 1, 0, 1, 0, 1, 0, 0, 1, 0, 0, 0, 1, 0, 1, 0, 0, 0, 0,\n",
              "         0]])"
            ]
          },
          "metadata": {},
          "execution_count": 2
        }
      ]
    },
    {
      "cell_type": "code",
      "source": [
        "vectorizer.get_feature_names()"
      ],
      "metadata": {
        "colab": {
          "base_uri": "https://localhost:8080/"
        },
        "id": "fhMqMqHNWaKT",
        "outputId": "efba8678-b9c4-43a4-c27a-8af88ac361dc"
      },
      "execution_count": 3,
      "outputs": [
        {
          "output_type": "stream",
          "name": "stderr",
          "text": [
            "/usr/local/lib/python3.8/dist-packages/sklearn/utils/deprecation.py:87: FutureWarning: Function get_feature_names is deprecated; get_feature_names is deprecated in 1.0 and will be removed in 1.2. Please use get_feature_names_out instead.\n",
            "  warnings.warn(msg, category=FutureWarning)\n"
          ]
        },
        {
          "output_type": "execute_result",
          "data": {
            "text/plain": [
              "['activities',\n",
              " 'are',\n",
              " 'business',\n",
              " 'challenges',\n",
              " 'changing',\n",
              " 'companies',\n",
              " 'five',\n",
              " 'for',\n",
              " 'has',\n",
              " 'industrial',\n",
              " 'industry',\n",
              " 'is',\n",
              " 'main',\n",
              " 'most',\n",
              " 'new',\n",
              " 'of',\n",
              " 'opens',\n",
              " 'points',\n",
              " 'revolution',\n",
              " 'technologies',\n",
              " 'that',\n",
              " 'the']"
            ]
          },
          "metadata": {},
          "execution_count": 3
        }
      ]
    },
    {
      "cell_type": "code",
      "source": [
        "from sklearn.metrics.pairwise import euclidean_distances\n",
        "\n",
        "for i in range(len(vectorizer_X)):\n",
        "  for j in range(i, len (vectorizer_X)):\n",
        "    if i == j:\n",
        "      continue\n",
        "    jarak = euclidean_distances(vectorizer_X[i], vectorizer_X[j])\n",
        "    print(f'Jarak Dokumen {i+1} dan {j+1}: {jarak}')"
      ],
      "metadata": {
        "colab": {
          "base_uri": "https://localhost:8080/"
        },
        "id": "BgpkggjrWdvc",
        "outputId": "03228900-1957-4644-a94e-48018302e08c"
      },
      "execution_count": 4,
      "outputs": [
        {
          "output_type": "stream",
          "name": "stdout",
          "text": [
            "Jarak Dokumen 1 dan 2: [[3.60555128]]\n",
            "Jarak Dokumen 1 dan 3: [[4.24264069]]\n",
            "Jarak Dokumen 2 dan 3: [[4.35889894]]\n"
          ]
        },
        {
          "output_type": "stream",
          "name": "stderr",
          "text": [
            "/usr/local/lib/python3.8/dist-packages/sklearn/utils/validation.py:593: FutureWarning: np.matrix usage is deprecated in 1.0 and will raise a TypeError in 1.2. Please convert to a numpy array with np.asarray. For more information see: https://numpy.org/doc/stable/reference/generated/numpy.matrix.html\n",
            "  warnings.warn(\n",
            "/usr/local/lib/python3.8/dist-packages/sklearn/utils/validation.py:593: FutureWarning: np.matrix usage is deprecated in 1.0 and will raise a TypeError in 1.2. Please convert to a numpy array with np.asarray. For more information see: https://numpy.org/doc/stable/reference/generated/numpy.matrix.html\n",
            "  warnings.warn(\n",
            "/usr/local/lib/python3.8/dist-packages/sklearn/utils/validation.py:593: FutureWarning: np.matrix usage is deprecated in 1.0 and will raise a TypeError in 1.2. Please convert to a numpy array with np.asarray. For more information see: https://numpy.org/doc/stable/reference/generated/numpy.matrix.html\n",
            "  warnings.warn(\n",
            "/usr/local/lib/python3.8/dist-packages/sklearn/utils/validation.py:593: FutureWarning: np.matrix usage is deprecated in 1.0 and will raise a TypeError in 1.2. Please convert to a numpy array with np.asarray. For more information see: https://numpy.org/doc/stable/reference/generated/numpy.matrix.html\n",
            "  warnings.warn(\n",
            "/usr/local/lib/python3.8/dist-packages/sklearn/utils/validation.py:593: FutureWarning: np.matrix usage is deprecated in 1.0 and will raise a TypeError in 1.2. Please convert to a numpy array with np.asarray. For more information see: https://numpy.org/doc/stable/reference/generated/numpy.matrix.html\n",
            "  warnings.warn(\n",
            "/usr/local/lib/python3.8/dist-packages/sklearn/utils/validation.py:593: FutureWarning: np.matrix usage is deprecated in 1.0 and will raise a TypeError in 1.2. Please convert to a numpy array with np.asarray. For more information see: https://numpy.org/doc/stable/reference/generated/numpy.matrix.html\n",
            "  warnings.warn(\n"
          ]
        }
      ]
    },
    {
      "cell_type": "code",
      "source": [
        "from sklearn.feature_extraction.text import CountVectorizer\n",
        "\n",
        "vectorizer = CountVectorizer(stop_words = 'english')\n",
        "vectorizer_X = vectorizer.fit_transform(corpus).todense()\n",
        "vectorizer_X"
      ],
      "metadata": {
        "colab": {
          "base_uri": "https://localhost:8080/"
        },
        "id": "F_AEidrCWg72",
        "outputId": "205c7ecd-d687-4813-f79b-72da04becc40"
      },
      "execution_count": 5,
      "outputs": [
        {
          "output_type": "execute_result",
          "data": {
            "text/plain": [
              "matrix([[1, 1, 0, 1, 0, 1, 0, 0, 0, 0, 0, 1, 0],\n",
              "        [0, 0, 0, 0, 0, 1, 0, 1, 0, 0, 1, 1, 1],\n",
              "        [0, 0, 1, 0, 1, 0, 1, 0, 1, 1, 0, 0, 0]])"
            ]
          },
          "metadata": {},
          "execution_count": 5
        }
      ]
    },
    {
      "cell_type": "code",
      "source": [
        "vectorizer.get_feature_names()"
      ],
      "metadata": {
        "colab": {
          "base_uri": "https://localhost:8080/"
        },
        "id": "l7Zdeb2UWiby",
        "outputId": "d03305d3-39f6-4e73-b713-4813136a27e5"
      },
      "execution_count": 6,
      "outputs": [
        {
          "output_type": "stream",
          "name": "stderr",
          "text": [
            "/usr/local/lib/python3.8/dist-packages/sklearn/utils/deprecation.py:87: FutureWarning: Function get_feature_names is deprecated; get_feature_names is deprecated in 1.0 and will be removed in 1.2. Please use get_feature_names_out instead.\n",
            "  warnings.warn(msg, category=FutureWarning)\n"
          ]
        },
        {
          "output_type": "execute_result",
          "data": {
            "text/plain": [
              "['activities',\n",
              " 'business',\n",
              " 'challenges',\n",
              " 'changing',\n",
              " 'companies',\n",
              " 'industrial',\n",
              " 'industry',\n",
              " 'main',\n",
              " 'new',\n",
              " 'opens',\n",
              " 'points',\n",
              " 'revolution',\n",
              " 'technologies']"
            ]
          },
          "metadata": {},
          "execution_count": 6
        }
      ]
    }
  ]
}